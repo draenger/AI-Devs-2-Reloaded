{
 "cells": [
  {
   "cell_type": "code",
   "execution_count": 9,
   "metadata": {},
   "outputs": [
    {
     "name": "stdout",
     "output_type": "stream",
     "text": [
      "Token: d717c85ec13176f8d8ad3951a39df26fdb884f64\n",
      "Treść zadania: {'code': 0, 'msg': 'please write blog post for the provided outline', 'blog': ['Wstęp: kilka słów na temat historii pizzy', 'Niezbędne składniki na pizzę', 'Robienie pizzy', 'Pieczenie pizzy w piekarniku']}\n",
      "Prompt: You are a blogger and you need to write a short but specyfic article for the given topics.     \n",
      "            Topics:['Wstęp: kilka słów na temat historii pizzy', 'Niezbędne składniki na pizzę', 'Robienie pizzy', 'Pieczenie pizzy w piekarniku']\n",
      "            ###\n",
      "            Response format: json array of string [\"tekst 1\",\"tekst 2\",\"tekst 3\",\"tekst 4\"] \n",
      "            ###\n",
      "            - You can return only one entry per topic.\n",
      "        \n",
      "[\n",
      "    \"Wstęp: kilka słów na temat historii pizzy - Pizza ma swoje korzenie w starożytnym Rzymie, gdzie była uważana za popularne danie uliczne. Pierwsza pizzeria została otwarta w Neapolu w 1738 roku, a od tego czasu pizza zdobyła popularność na całym świecie.\",\n",
      "    \"Niezbędne składniki na pizzę - Do przygotowania pysznej pizzy potrzebujesz podstawowych składników takich jak mąka, drożdże, woda, sól, oliwa, sos pomidorowy, ser oraz ulubione dodatki jak szynka, pieczarki czy oliwki.\",\n",
      "    \"Robienie pizzy - Proces robienia pizzy zaczyna się od zagniecenia ciasta z mąki, drożdży, wody i soli. Następnie ciasto zostaje wywałkowane, posmarowane sosem pomidorowym, posypane serem i ulubionymi dodatkami. Gotową pizzę wkłada się do piekarnika.\",\n",
      "    \"Pieczenie pizzy w piekarniku - Aby upiec pizzę w piekarniku, należy rozgrzać go do wysokiej temperatury, najlepiej około 250 stopni Celsjusza. Gotową pizzę wkłada się na rozgrzaną blaszkę i piecze przez około 10-15 minut, aż ciasto będzie chrupiące, a ser roztopiony.\"\n",
      "]\n",
      "Odpowiedź: {'answer': ['Wstęp: kilka słów na temat historii pizzy - Pizza ma swoje korzenie w starożytnym Rzymie, gdzie była uważana za popularne danie uliczne. Pierwsza pizzeria została otwarta w Neapolu w 1738 roku, a od tego czasu pizza zdobyła popularność na całym świecie.', 'Niezbędne składniki na pizzę - Do przygotowania pysznej pizzy potrzebujesz podstawowych składników takich jak mąka, drożdże, woda, sól, oliwa, sos pomidorowy, ser oraz ulubione dodatki jak szynka, pieczarki czy oliwki.', 'Robienie pizzy - Proces robienia pizzy zaczyna się od zagniecenia ciasta z mąki, drożdży, wody i soli. Następnie ciasto zostaje wywałkowane, posmarowane sosem pomidorowym, posypane serem i ulubionymi dodatkami. Gotową pizzę wkłada się do piekarnika.', 'Pieczenie pizzy w piekarniku - Aby upiec pizzę w piekarniku, należy rozgrzać go do wysokiej temperatury, najlepiej około 250 stopni Celsjusza. Gotową pizzę wkłada się na rozgrzaną blaszkę i piecze przez około 10-15 minut, aż ciasto będzie chrupiące, a ser roztopiony.']}\n",
      "Odpowiedź serwera: {'code': 0, 'msg': 'OK', 'note': 'CORRECT'}\n"
     ]
    }
   ],
   "source": [
    "from utils import AiDevsTask, OpenAIChat\n",
    "import json\n",
    "import os\n",
    "from langchain.schema import (\n",
    "    SystemMessage,\n",
    "    HumanMessage,\n",
    "    AIMessage\n",
    ")\n",
    "\n",
    "# Usage example:\n",
    "task_name = \"blogger\"\n",
    "task = AiDevsTask()\n",
    "task.get_token(task_name)\n",
    "task_response = task.get_task_content()\n",
    "\n",
    "chatbot = OpenAIChat()\n",
    "prompt = HumanMessage(content = f\"\"\"You are a blogger and you need to write a short but specyfic article for the given topics.     \n",
    "            Topics:{task_response['blog']}\n",
    "            ###\n",
    "            Response format: json array of string [\"tekst 1\",\"tekst 2\",\"tekst 3\",\"tekst 4\"] \n",
    "            ###\n",
    "            - You can return only one entry per topic.\n",
    "        \"\"\")\n",
    "\n",
    "results = chatbot.handle_query(prompt)\n",
    "print(results)\n",
    "\n",
    "serialized_results = json.loads(results)\n",
    "task.send_answer(serialized_results)"
   ]
  }
 ],
 "metadata": {
  "kernelspec": {
   "display_name": ".venv",
   "language": "python",
   "name": "python3"
  },
  "language_info": {
   "codemirror_mode": {
    "name": "ipython",
    "version": 3
   },
   "file_extension": ".py",
   "mimetype": "text/x-python",
   "name": "python",
   "nbconvert_exporter": "python",
   "pygments_lexer": "ipython3",
   "version": "3.12.2"
  }
 },
 "nbformat": 4,
 "nbformat_minor": 2
}
