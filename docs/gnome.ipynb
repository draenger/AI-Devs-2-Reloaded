{
 "cells": [
  {
   "cell_type": "code",
   "execution_count": 5,
   "metadata": {},
   "outputs": [
    {
     "name": "stdout",
     "output_type": "stream",
     "text": [
      "Token: 013a096f1432fc8967184b1f0575d42067ad8af2\n",
      "Treść zadania:  {'code': 0, 'msg': 'I will give you a drawing of a gnome with a hat on his head. Tell me what is the color of the hat in POLISH. If any errors occur, return \"ERROR\" as answer', 'hint': \"it won't always be a drawing of a gnome >:)\", 'url': 'https://tasks.aidevs.pl/gnome/e4570f47d5f8663f9ca9180a3befa340.png'}\n",
      "Task message:  I will give you a drawing of a gnome with a hat on his head. Tell me what is the color of the hat in POLISH. If any errors occur, return \"ERROR\" as answer\n",
      "Task hint:  it won't always be a drawing of a gnome >:)\n",
      "Task url:  https://tasks.aidevs.pl/gnome/e4570f47d5f8663f9ca9180a3befa340.png\n",
      "{'model': 'gpt-4-turbo', 'messages': [{'role': 'user', 'content': [{'type': 'text', 'text': 'I will give you a drawing of a gnome with a hat on his head. \\n                                  - Tell me what is the color of the hat in POLISH. \\n                                  - If any errors occur, return \"ERROR\" as answer.\\n                                  - It won\\'t always be a drawing of a gnome!\\n                                  \\n                                  Only answer to what im asking for and nothing else!\\n                                  '}, {'type': 'image_url', 'image_url': {'url': 'https://tasks.aidevs.pl/gnome/e4570f47d5f8663f9ca9180a3befa340.png'}}]}], 'max_tokens': 300}\n",
      "{'id': 'chatcmpl-9GBiLjIIPGh7bBHBgGvJXulBBvSgP', 'object': 'chat.completion', 'created': 1713645305, 'model': 'gpt-4-turbo-2024-04-09', 'choices': [{'index': 0, 'message': {'role': 'assistant', 'content': 'ERROR'}, 'logprobs': None, 'finish_reason': 'stop'}], 'usage': {'prompt_tokens': 337, 'completion_tokens': 1, 'total_tokens': 338}, 'system_fingerprint': 'fp_67e6987839'}\n",
      "ERROR\n",
      "Odpowiedź: {'answer': 'ERROR'}\n",
      "Odpowiedź serwera:  {'code': 0, 'msg': 'OK', 'note': 'CORRECT'}\n"
     ]
    },
    {
     "data": {
      "text/plain": [
       "{'code': 0, 'msg': 'OK', 'note': 'CORRECT'}"
      ]
     },
     "execution_count": 5,
     "metadata": {},
     "output_type": "execute_result"
    }
   ],
   "source": [
    "from utils import AiDevsTask, OpenAIChat, Downloader, OpenAIVision\n",
    "import json\n",
    "import os\n",
    "from langchain.schema import (\n",
    "    SystemMessage,\n",
    "    HumanMessage,\n",
    "    AIMessage\n",
    ")\n",
    "\n",
    "# Usage example:\n",
    "task_name = \"gnome\"\n",
    "task = AiDevsTask()\n",
    "task.get_token(task_name)\n",
    "task_response = task.get_task_content()\n",
    "\n",
    "task_msg = task_response['msg']\n",
    "print(\"Task message: \", task_msg)\n",
    "task_hint = task_response['hint']\n",
    "print(\"Task hint: \", task_hint)\n",
    "task_url = task_response['url']\n",
    "print(\"Task url: \", task_url)\n",
    "\n",
    "vision_api = OpenAIVision()\n",
    "response = vision_api.execute_url(\"\"\"I will give you a drawing of a gnome with a hat on his head. \n",
    "                                  - Tell me what is the color of the hat in POLISH. \n",
    "                                  - If any errors occur, return \\\"ERROR\\\" as answer.\n",
    "                                  - It won't always be a drawing of a gnome!\n",
    "                                  \n",
    "                                  Only answer to what im asking for and nothing else!\n",
    "                                  \"\"\", task_url)\n",
    "print(response)\n",
    "\n",
    "result = response['choices'][0][\"message\"][\"content\"]\n",
    "print(result)\n",
    "\n",
    "task.send_answer(result)"
   ]
  }
 ],
 "metadata": {
  "kernelspec": {
   "display_name": ".venv",
   "language": "python",
   "name": "python3"
  },
  "language_info": {
   "codemirror_mode": {
    "name": "ipython",
    "version": 3
   },
   "file_extension": ".py",
   "mimetype": "text/x-python",
   "name": "python",
   "nbconvert_exporter": "python",
   "pygments_lexer": "ipython3",
   "version": "3.12.2"
  }
 },
 "nbformat": 4,
 "nbformat_minor": 2
}
