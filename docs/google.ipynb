{
 "cells": [
  {
   "cell_type": "code",
   "execution_count": 2,
   "metadata": {},
   "outputs": [
    {
     "name": "stdout",
     "output_type": "stream",
     "text": [
      "Token: a96456ba779b6fb2c8d092264b45d093f2ed9395\n",
      "Treść zadania:  {'code': 0, 'msg': 'Provide me the URL to your API (HTTPS) via /answer/ endpoint. I will ask your API a question that requires search engine integration. Your job is to provide me answer to my question', 'hint1': 'Please use SerpAPI or similar service. https://serpapi.com (free account is enough)', 'hint2': 'Probably I will ask more than one question, so be prepared for that', 'hint3': 'Please return the answer in JSON format, with \"reply\" field!', 'hint4': 'Return as concise an answer as possible'}\n",
      "Task message:  Provide me the URL to your API (HTTPS) via /answer/ endpoint. I will ask your API a question that requires search engine integration. Your job is to provide me answer to my question\n",
      "Task hint1:  Please use SerpAPI or similar service. https://serpapi.com (free account is enough)\n",
      "Task hint2:  Probably I will ask more than one question, so be prepared for that\n",
      "Task hint3:  Please return the answer in JSON format, with \"reply\" field!\n",
      "Task hint4:  Return as concise an answer as possible\n"
     ]
    }
   ],
   "source": [
    "from utils import AiDevsTask, OpenAIChat\n",
    "import json\n",
    "import os\n",
    "from serpapi import GoogleSearch\n",
    "from langchain.schema import (\n",
    "    SystemMessage,\n",
    "    HumanMessage,\n",
    "    AIMessage\n",
    ")\n",
    "\n",
    "task_name = \"google\"\n",
    "task = AiDevsTask()\n",
    "task.get_token(task_name)\n",
    "task_response = task.get_task_content()\n",
    "\n",
    "task_msg = task_response['msg']\n",
    "print(\"Task message: \", task_msg)\n",
    "task_hint1 = task_response['hint1']\n",
    "print(\"Task hint1: \", task_hint1)\n",
    "task_hint2 = task_response['hint2']\n",
    "print(\"Task hint2: \", task_hint2)\n",
    "task_hint3 = task_response['hint3']\n",
    "print(\"Task hint3: \", task_hint3)\n",
    "task_hint4 = task_response['hint4']\n",
    "print(\"Task hint4: \", task_hint4)\n",
    "\n",
    "params = {\n",
    "  \"engine\": \"google\",\n",
    "  \"q\": \"Coffee\",\n",
    "  \"api_key\": \"146ed76e8111259cab50a988ad323204e5e75bfbb7342f8009cc72cd34dab6e8\"\n",
    "}\n",
    "\n",
    "search = GoogleSearch(params)\n",
    "results = search.get_dict()\n",
    "organic_results = results[\"organic_results\"]\n",
    "\n",
    "#task.send_answer(serialized_results)"
   ]
  }
 ],
 "metadata": {
  "kernelspec": {
   "display_name": ".venv",
   "language": "python",
   "name": "python3"
  },
  "language_info": {
   "codemirror_mode": {
    "name": "ipython",
    "version": 3
   },
   "file_extension": ".py",
   "mimetype": "text/x-python",
   "name": "python",
   "nbconvert_exporter": "python",
   "pygments_lexer": "ipython3",
   "version": "3.12.2"
  }
 },
 "nbformat": 4,
 "nbformat_minor": 2
}
