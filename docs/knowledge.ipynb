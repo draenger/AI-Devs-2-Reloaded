{
 "cells": [
  {
   "cell_type": "code",
   "execution_count": 1,
   "metadata": {},
   "outputs": [
    {
     "name": "stdout",
     "output_type": "stream",
     "text": [
      "Token: 9b0354ef4e1a27ff82d018e34536905ed71272e3\n",
      "Treść zadania:  {'code': 0, 'msg': 'I will ask you a question about the exchange rate, the current population or general knowledge. Decide whether you will take your knowledge from external sources or from the knowledge of the model', 'question': 'podaj aktualny kurs EURO', 'database #1': 'Currency http://api.nbp.pl/en.html (use table A)', 'database #2': \"Knowledge about countries https://restcountries.com/ - field 'population'\"}\n",
      "Task message:  I will ask you a question about the exchange rate, the current population or general knowledge. Decide whether you will take your knowledge from external sources or from the knowledge of the model\n",
      "Pytanie:  podaj aktualny kurs EURO\n",
      "Baza 1:  Currency http://api.nbp.pl/en.html (use table A)\n",
      "Baza 2:  Knowledge about countries https://restcountries.com/ - field 'population'\n"
     ]
    },
    {
     "name": "stderr",
     "output_type": "stream",
     "text": [
      "c:\\Users\\dkwar\\Desktop\\Forge\\samurai-api\\.venv\\Lib\\site-packages\\langchain_core\\_api\\deprecation.py:117: LangChainDeprecationWarning: The function `__call__` was deprecated in LangChain 0.1.7 and will be removed in 0.2.0. Use invoke instead.\n",
      "  warn_deprecated(\n"
     ]
    },
    {
     "name": "stdout",
     "output_type": "stream",
     "text": [
      "Chat response:  {'tool_name': 'nbp', 'parameter': 'eur'}\n",
      "http://api.nbp.pl/api/exchangerates/rates/A/eur\n",
      "Chat response:  Kurs EURO wynosi 4.3316.\n",
      "Odpowiedź: {'answer': 'Kurs EURO wynosi 4.3316.'}\n",
      "Odpowiedź serwera:  {'code': 0, 'msg': 'OK', 'note': 'CORRECT'}\n"
     ]
    },
    {
     "data": {
      "text/plain": [
       "{'code': 0, 'msg': 'OK', 'note': 'CORRECT'}"
      ]
     },
     "execution_count": 1,
     "metadata": {},
     "output_type": "execute_result"
    }
   ],
   "source": [
    "from utils import AiDevsTask, OpenAIChat\n",
    "from utils.tools import NBPTools, RestCountriesTools\n",
    "import json\n",
    "import os\n",
    "from langchain.schema import (\n",
    "    SystemMessage,\n",
    "    HumanMessage,\n",
    "    AIMessage\n",
    ")\n",
    "\n",
    "# Usage example:\n",
    "task_name = \"knowledge\"\n",
    "task = AiDevsTask()\n",
    "task.get_token(task_name)\n",
    "task_response = task.get_task_content()\n",
    "\n",
    "task_msg = task_response['msg']\n",
    "print(\"Task message: \", task_msg)\n",
    "task_question = task_response['question']\n",
    "print(\"Pytanie: \", task_question)\n",
    "task_database1 = task_response['database #1']\n",
    "print(\"Baza 1: \", task_database1)\n",
    "task_database2 = task_response['database #2']\n",
    "print(\"Baza 2: \", task_database2)\n",
    "\n",
    "json_example = \"\"\"\n",
    "\"What is the dollar exchange rate in relation to the Polish zloty?\" -> {\"tool_name\": \"nbp\", \"parameter\": \"usd\"}\n",
    "\"What is the euro exchange rate?\" -> {\"tool_name\": \"nbp\", \"parameter\": \"eur\"}\n",
    "\"What is the population of italy?\" -> {\"tool_name\": \"rest_countries\", \"parameter\": \"italy\"}\n",
    "\"what is the population of poland?\" -> {\"tool_name\": \"rest_countries\", \"parameter\": \"poland\"}\n",
    "\"what is the capital of france?\" -> {\"tool_name\": \"chat\", \"parameter\": \"\"}\n",
    "\"explain the theory of relativity\" -> {\"tool_name\": \"chat\", \"parameter\": \"\"}\n",
    "\"\"\"\n",
    "\n",
    "chatbot = OpenAIChat()\n",
    "messages=[\n",
    "        HumanMessage(content=f\"\"\"{task_question}. Return the tool that should be used to answer the question and value that needs to be used in the and nothing else. Use JSON format.\n",
    "                     ###Examples:\n",
    "                     {json_example}\n",
    "                     \"\"\"),\n",
    "    ]\n",
    "chat_response = chatbot.handle_messages(messages)\n",
    "chat_response = json.loads(chat_response)\n",
    "print(\"Chat response: \", chat_response)\n",
    "\n",
    "tool_name = chat_response[\"tool_name\"]\n",
    "parameter = chat_response[\"parameter\"]\n",
    "\n",
    "context = \"\"\n",
    "match tool_name:\n",
    "    case \"nbp\":\n",
    "        exchange_rate = NBPTools.get_exchange_rates(table=\"A\", code=parameter)\n",
    "        context = f\"\"\"###Context: Exchange Rate of {parameter} is {exchange_rate}.###\"\"\"\n",
    "    case \"rest_countries\":\n",
    "        population = RestCountriesTools.get_country_info(name=parameter)\n",
    "        context = f\"\"\"###Context: Population of {parameter} is {population}.###\"\"\"\n",
    "    case \"chat\":\n",
    "        context = \"###Context: Answer based on your knowldedge.###\"\n",
    "\n",
    "chatbot = OpenAIChat()\n",
    "messages=[\n",
    "        HumanMessage(content=f\"\"\"{task_question}. Return answer to the question and nothing else. Answer in Polish Language. Refer to context if needed.\n",
    "            {context}\"\"\"),\n",
    "    ]\n",
    "chat_response = chatbot.handle_messages(messages)\n",
    "print(\"Chat response: \", chat_response)\n",
    "\n",
    "task.send_answer(chat_response)"
   ]
  }
 ],
 "metadata": {
  "kernelspec": {
   "display_name": ".venv",
   "language": "python",
   "name": "python3"
  },
  "language_info": {
   "codemirror_mode": {
    "name": "ipython",
    "version": 3
   },
   "file_extension": ".py",
   "mimetype": "text/x-python",
   "name": "python",
   "nbconvert_exporter": "python",
   "pygments_lexer": "ipython3",
   "version": "3.12.2"
  }
 },
 "nbformat": 4,
 "nbformat_minor": 2
}
