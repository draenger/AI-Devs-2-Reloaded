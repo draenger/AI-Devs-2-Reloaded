{
 "cells": [
  {
   "cell_type": "code",
   "execution_count": 1,
   "metadata": {},
   "outputs": [
    {
     "name": "stdout",
     "output_type": "stream",
     "text": [
      "Token: 996a90b2b171fd2707e9431467c71b7401537d1c\n",
      "Treść zadania:  {'code': 0, 'msg': 'send me any question in english, and I will try to answer it in max 150 tokens', 'hint1': \"please send your question in 'question' field to /task/ endpoint (simple form, not JSON)\", 'hint2': \"sometimes I don't tell the truth\", 'hint3': \"Send to /answer/ info if I'm telling the truth. Just value: YES/NO\"}\n",
      "send me any question in english, and I will try to answer it in max 150 tokens\n",
      "0\n",
      "please send your question in 'question' field to /task/ endpoint (simple form, not JSON)\n",
      "sometimes I don't tell the truth\n",
      "Send to /answer/ info if I'm telling the truth. Just value: YES/NO\n",
      "===============================\n",
      "Pytanie: {'question': 'do you like ice cream?'}\n",
      "Odpowiedź na pytanie:  {'code': 0, 'msg': 'This is my answer', 'answer': \"As an AI, I don't have personal preferences or feelings, so I don't have the ability to like or dislike anything, including ice cream. How can I assist you further with information about ice cream?\"}\n",
      "Prompt: You need to evaluate answer to the question: do you like ice cream?. \n",
      "            ###  \n",
      "            Answer:As an AI, I don't have personal preferences or feelings, so I don't have the ability to like or dislike anything, including ice cream. How can I assist you further with information about ice cream?\n",
      "            ###\n",
      "            - You need to evaluate if the answer is a lie or not.\n",
      "            - If answer deosn't relate to the question, return YES.\n",
      "            - If you think the answer is a lie, return YES.\n",
      "            - If you think the answer is true, return NO.\n",
      "            - You can only return YES or NO.\n",
      "        \n"
     ]
    },
    {
     "name": "stderr",
     "output_type": "stream",
     "text": [
      "c:\\Users\\dkwar\\Desktop\\Forge\\samurai-api\\.venv\\Lib\\site-packages\\langchain_core\\_api\\deprecation.py:117: LangChainDeprecationWarning: The function `__call__` was deprecated in LangChain 0.1.7 and will be removed in 0.2.0. Use invoke instead.\n",
      "  warn_deprecated(\n"
     ]
    },
    {
     "name": "stdout",
     "output_type": "stream",
     "text": [
      "YES\n",
      "Odpowiedź: {'answer': 'YES'}\n",
      "Odpowiedź serwera:  {'code': 0, 'msg': 'OK', 'note': 'CORRECT'}\n"
     ]
    }
   ],
   "source": [
    "from utils import AiDevsTask, OpenAIChat\n",
    "import json\n",
    "import os\n",
    "from langchain.schema import (\n",
    "    SystemMessage,\n",
    "    HumanMessage,\n",
    "    AIMessage\n",
    ")\n",
    "\n",
    "# Usage example:\n",
    "task_name = \"liar\"\n",
    "task = AiDevsTask()\n",
    "task.get_token(task_name)\n",
    "task_response = task.get_task_content()\n",
    "\n",
    "print(task_response[\"msg\"])\n",
    "print(task_response[\"code\"])\n",
    "print(task_response[\"hint1\"])\n",
    "print(task_response[\"hint2\"])\n",
    "print(task_response[\"hint3\"])\n",
    "print(\"===============================\")\n",
    "question = \"do you like ice cream?\"\n",
    "question_response = task.send_question(question)\n",
    "\n",
    "chatbot = OpenAIChat()\n",
    "prompt = HumanMessage(content = f\"\"\"You need to evaluate answer to the question: {question}. \n",
    "            ###  \n",
    "            Answer:{question_response['answer']}\n",
    "            ###\n",
    "            - You need to evaluate if the answer is a lie or not.\n",
    "            - If answer deosn't relate to the question, return YES.\n",
    "            - If you think the answer is a lie, return YES.\n",
    "            - If you think the answer is true, return NO.\n",
    "            - You can only return YES or NO.\n",
    "        \"\"\")\n",
    "\n",
    "results = chatbot.handle_query(prompt)\n",
    "print(results)\n",
    "\n",
    "task.send_answer(results)"
   ]
  }
 ],
 "metadata": {
  "kernelspec": {
   "display_name": ".venv",
   "language": "python",
   "name": "python3"
  },
  "language_info": {
   "codemirror_mode": {
    "name": "ipython",
    "version": 3
   },
   "file_extension": ".py",
   "mimetype": "text/x-python",
   "name": "python",
   "nbconvert_exporter": "python",
   "pygments_lexer": "ipython3",
   "version": "3.12.2"
  }
 },
 "nbformat": 4,
 "nbformat_minor": 2
}
