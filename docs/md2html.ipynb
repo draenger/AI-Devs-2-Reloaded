{
 "cells": [
  {
   "cell_type": "code",
   "execution_count": 8,
   "metadata": {},
   "outputs": [
    {
     "name": "stdout",
     "output_type": "stream",
     "text": [
      "Token: 939069f5225bcca0659446c273458838145f99cc\n",
      "Treść zadania:  {'code': 0, 'msg': 'Convert this Markdown text into HTML - rememeber about strange BOLD interpretation!', 'hint': 'https://tasks.aidevs.pl/hint/md2html', 'input': '## Dlaczego warto częstować gości **Yerba Mate**?\\n1. Sprawiasz wrażenie bogatego światowca\\n2. _Oszczędzasz na cukrze_\\n3. Nie poproszą o dolewkę\\n4. Jest szansa, że **już Cię więcej nie odwiedzą**'}\n",
      "Task message:  Convert this Markdown text into HTML - rememeber about strange BOLD interpretation!\n",
      "Task hint:  https://tasks.aidevs.pl/hint/md2html\n",
      "Task input:  ## Dlaczego warto częstować gości **Yerba Mate**?\n",
      "1. Sprawiasz wrażenie bogatego światowca\n",
      "2. _Oszczędzasz na cukrze_\n",
      "3. Nie poproszą o dolewkę\n",
      "4. Jest szansa, że **już Cię więcej nie odwiedzą**\n",
      "Odpowiedź: {'answer': '<h2>Dlaczego warto częstować gości <span class=\"bold\">Yerba Mate</span>?</h2><ol><li>Sprawiasz wrażenie bogatego światowca</li><li><u>Oszczędzasz na cukrze</u></li><li>Nie poproszą o dolewkę</li><li>Jest szansa, że <span class=\"bold\">już Cię więcej nie odwiedzą</span>.</li></ol>'}\n",
      "Odpowiedź serwera:  {'code': -41, 'msg': 'Something wrong around: Jest szansa, że...'}\n"
     ]
    },
    {
     "data": {
      "text/plain": [
       "{'code': -41, 'msg': 'Something wrong around: Jest szansa, że...'}"
      ]
     },
     "execution_count": 8,
     "metadata": {},
     "output_type": "execute_result"
    }
   ],
   "source": [
    "from utils import AiDevsTask, OpenAIChat\n",
    "import json\n",
    "import os\n",
    "from langchain.schema import (\n",
    "    SystemMessage,\n",
    "    HumanMessage,\n",
    "    AIMessage\n",
    ")\n",
    "\n",
    "task_name = \"md2html\"\n",
    "task = AiDevsTask()\n",
    "task.get_token(task_name)\n",
    "task_response = task.get_task_content()\n",
    "\n",
    "task_msg = task_response['msg']\n",
    "print(\"Task message: \", task_msg)\n",
    "task_hint = task_response['hint']\n",
    "print(\"Task hint: \", task_hint)\n",
    "task_input = task_response['input']\n",
    "print(\"Task input: \", task_input)\n",
    "\n",
    "chatbot = OpenAIChat(\"gpt-4-turbo\")\n",
    "messages=[\n",
    "        HumanMessage(content=f\"\"\"{task_msg}: {task_input}.\"\"\"),\n",
    "    ]\n",
    "chat_response = chatbot.handle_messages(messages)\n",
    "\n",
    "task.send_answer(chat_response)"
   ]
  }
 ],
 "metadata": {
  "kernelspec": {
   "display_name": ".venv",
   "language": "python",
   "name": "python3"
  },
  "language_info": {
   "codemirror_mode": {
    "name": "ipython",
    "version": 3
   },
   "file_extension": ".py",
   "mimetype": "text/x-python",
   "name": "python",
   "nbconvert_exporter": "python",
   "pygments_lexer": "ipython3",
   "version": "3.12.2"
  }
 },
 "nbformat": 4,
 "nbformat_minor": 2
}
