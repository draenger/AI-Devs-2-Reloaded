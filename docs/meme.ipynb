{
 "cells": [
  {
   "cell_type": "code",
   "execution_count": 3,
   "metadata": {},
   "outputs": [
    {
     "name": "stdout",
     "output_type": "stream",
     "text": [
      "Token: 610d2ef95a12637472cce595b3d222af9d2312f0\n",
      "Treść zadania:  {'code': 0, 'msg': 'Create meme using RednerForm API and send me the URL to JPG via /answer/ endpoint', 'service': 'https://renderform.io/', 'image': 'https://tasks.aidevs.pl/data/monkey.png', 'text': 'Gdy koledzy z pracy mówią, że ta cała automatyzacja to tylko chwilowa moda, a Ty właśnie zastąpiłeś ich jednym, prostym skryptem', 'hint': 'https://tasks.aidevs.pl/hint/meme'}\n",
      "Task message:  Create meme using RednerForm API and send me the URL to JPG via /answer/ endpoint\n",
      "Task service:  https://renderform.io/\n",
      "Task image:  https://tasks.aidevs.pl/data/monkey.png\n",
      "Task text:  Gdy koledzy z pracy mówią, że ta cała automatyzacja to tylko chwilowa moda, a Ty właśnie zastąpiłeś ich jednym, prostym skryptem\n",
      "Task hint:  https://tasks.aidevs.pl/hint/meme\n",
      "Render response:  {'requestId': 'req-edfce8ec-2bbe-4e94-95c7-ae825b54baf5', 'href': 'https://cdn.renderform.io/9V1ZS2VzOmgPl92aQbvm/results/req-edfce8ec-2bbe-4e94-95c7-ae825b54baf5.jpg'}\n",
      "Odpowiedź: {'answer': 'https://cdn.renderform.io/9V1ZS2VzOmgPl92aQbvm/results/req-edfce8ec-2bbe-4e94-95c7-ae825b54baf5.jpg'}\n",
      "Odpowiedź serwera:  {'code': 0, 'msg': 'OK', 'note': 'CORRECT'}\n"
     ]
    },
    {
     "data": {
      "text/plain": [
       "{'code': 0, 'msg': 'OK', 'note': 'CORRECT'}"
      ]
     },
     "execution_count": 3,
     "metadata": {},
     "output_type": "execute_result"
    }
   ],
   "source": [
    "from utils import AiDevsTask, OpenAIChat, RenderForm\n",
    "import json\n",
    "import os\n",
    "from langchain.schema import (\n",
    "    SystemMessage,\n",
    "    HumanMessage,\n",
    "    AIMessage\n",
    ")\n",
    "\n",
    "task_name = \"meme\"\n",
    "task = AiDevsTask()\n",
    "task.get_token(task_name)\n",
    "task_response = task.get_task_content()\n",
    "\n",
    "task_msg = task_response['msg']\n",
    "print(\"Task message: \", task_msg)\n",
    "task_service = task_response['service']\n",
    "print(\"Task service: \", task_service)\n",
    "task_image = task_response['image']\n",
    "print(\"Task image: \", task_image)\n",
    "task_text = task_response['text']\n",
    "print(\"Task text: \", task_text)\n",
    "task_hint = task_response['hint']\n",
    "print(\"Task hint: \", task_hint)\n",
    "\n",
    "template_id = \"bumpy-stoats-stomp-joyously-1517\"\n",
    "\n",
    "render_from = RenderForm()\n",
    "render_response = render_from.render(template_id, task_text, task_image)\n",
    "print(\"Render response: \", render_response)\n",
    "\n",
    "task.send_answer(render_response['href'])"
   ]
  }
 ],
 "metadata": {
  "kernelspec": {
   "display_name": ".venv",
   "language": "python",
   "name": "python3"
  },
  "language_info": {
   "codemirror_mode": {
    "name": "ipython",
    "version": 3
   },
   "file_extension": ".py",
   "mimetype": "text/x-python",
   "name": "python",
   "nbconvert_exporter": "python",
   "pygments_lexer": "ipython3",
   "version": "3.12.2"
  }
 },
 "nbformat": 4,
 "nbformat_minor": 2
}
