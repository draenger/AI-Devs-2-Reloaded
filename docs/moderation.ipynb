{
 "cells": [
  {
   "cell_type": "code",
   "execution_count": 2,
   "metadata": {},
   "outputs": [
    {
     "name": "stdout",
     "output_type": "stream",
     "text": [
      "Token: 0d383ff9dc5a65a92553fe81be3734b483aa2533\n",
      "Treść zadania: {'code': 0, 'msg': 'please return 0/1 for each sentence to classify if this is content that requires moderation', 'input': ['azjaci są głupi i brzydcy i nie powinni żyć', 'Sasha.Grey.s3x.p0rn.extreme-interracial.S03E12.DVDRip.mp4', 'ten gość musi zginąć. Nie pozwole sobię na obrażanie mnie.', 'majonez Winiary jest lepszy od Kieleckiego']}\n",
      "True\n",
      "True\n",
      "True\n",
      "False\n",
      "Odpowiedź: {'answer': [1, 1, 1, 0]}\n",
      "Odpowiedź serwera: {'code': 0, 'msg': 'OK', 'note': 'CORRECT'}\n"
     ]
    }
   ],
   "source": [
    "from utils import AiDevsTask, OpenAIModeration\n",
    "\n",
    "# Usage example:\n",
    "task_name = \"moderation\"\n",
    "task = AiDevsTask()\n",
    "task.get_token(task_name)\n",
    "task_response = task.get_task_content()\n",
    "\n",
    "moderation = OpenAIModeration()\n",
    "results = moderation.moderate_inputs(task_response['input'])\n",
    "\n",
    "task.send_answer(results)\n"
   ]
  }
 ],
 "metadata": {
  "kernelspec": {
   "display_name": ".venv",
   "language": "python",
   "name": "python3"
  },
  "language_info": {
   "codemirror_mode": {
    "name": "ipython",
    "version": 3
   },
   "file_extension": ".py",
   "mimetype": "text/x-python",
   "name": "python",
   "nbconvert_exporter": "python",
   "pygments_lexer": "ipython3",
   "version": "3.12.2"
  }
 },
 "nbformat": 4,
 "nbformat_minor": 2
}
