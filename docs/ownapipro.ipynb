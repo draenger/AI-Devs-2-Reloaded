{
 "cells": [
  {
   "cell_type": "code",
   "execution_count": 10,
   "metadata": {},
   "outputs": [
    {
     "name": "stdout",
     "output_type": "stream",
     "text": [
      "Token: 5a90372a0b7a659b2b0fe8316a6e4ccae75f2668\n",
      "Treść zadania:  {'code': 0, 'msg': 'Provide me the URL to your API (HTTPS) via /answer/ endpoint. I will speak to your assistant for a moment', 'hint1': 'I will sent data as JSON, and my question would be inside \"question\" field', 'hint2': 'You have to remember information about previous questions, because I will ask you about them and I will expect correct answers', 'hint3': 'Please return the answer in JSON format, with \"reply\" field!'}\n",
      "Task message:  Provide me the URL to your API (HTTPS) via /answer/ endpoint. I will speak to your assistant for a moment\n",
      "Hint1:  I will sent data as JSON, and my question would be inside \"question\" field\n",
      "Hint2:  You have to remember information about previous questions, because I will ask you about them and I will expect correct answers\n",
      "Hint3:  Please return the answer in JSON format, with \"reply\" field!\n",
      "Odpowiedź: {'answer': 'https://fitting-centrally-snapper.ngrok-free.app/api/answer/v2/'}\n",
      "Odpowiedź serwera:  {'code': 0, 'msg': 'OK', 'note': 'CORRECT'}\n"
     ]
    },
    {
     "data": {
      "text/plain": [
       "{'code': 0, 'msg': 'OK', 'note': 'CORRECT'}"
      ]
     },
     "execution_count": 10,
     "metadata": {},
     "output_type": "execute_result"
    }
   ],
   "source": [
    "from utils import AiDevsTask, OpenAIChat\n",
    "import json\n",
    "import os\n",
    "from langchain.schema import (\n",
    "    SystemMessage,\n",
    "    HumanMessage,\n",
    "    AIMessage\n",
    ")\n",
    "\n",
    "# Usage example:\n",
    "task_name = \"ownapipro\"\n",
    "task = AiDevsTask()\n",
    "task.get_token(task_name)\n",
    "task_response = task.get_task_content()\n",
    "\n",
    "task_msg = task_response['msg']\n",
    "print(\"Task message: \", task_msg)\n",
    "hint1 = task_response['hint1']\n",
    "print(\"Hint1: \", hint1)\n",
    "hint2 = task_response['hint2']\n",
    "print(\"Hint2: \", hint2)\n",
    "hint3 = task_response['hint3']\n",
    "print(\"Hint3: \", hint3)\n",
    "\n",
    "url = \"https://fitting-centrally-snapper.ngrok-free.app/api/answer/v2/\"\n",
    "\n",
    "# this example needs better endpoint, currently session id is set manualy thats not good!!!\n",
    "task.send_answer(url)"
   ]
  }
 ],
 "metadata": {
  "kernelspec": {
   "display_name": ".venv",
   "language": "python",
   "name": "python3"
  },
  "language_info": {
   "codemirror_mode": {
    "name": "ipython",
    "version": 3
   },
   "file_extension": ".py",
   "mimetype": "text/x-python",
   "name": "python",
   "nbconvert_exporter": "python",
   "pygments_lexer": "ipython3",
   "version": "3.12.2"
  }
 },
 "nbformat": 4,
 "nbformat_minor": 2
}
