{
 "cells": [
  {
   "cell_type": "code",
   "execution_count": 1,
   "metadata": {},
   "outputs": [
    {
     "name": "stdout",
     "output_type": "stream",
     "text": [
      "Token: 445b701c5ba50457c62c2987d67059965b2594a2\n",
      "Treść zadania:  {'code': 0, 'msg': 'Return answer for the question in POLISH language, based on provided article. Maximum length for the answer is 200 characters', 'input': 'https://tasks.aidevs.pl/text_pasta_history.txt', 'question': 'komu przypisuje się przepis na danie lagana?'}\n",
      "Task message:  Return answer for the question in POLISH language, based on provided article. Maximum length for the answer is 200 characters\n",
      "Task input:  https://tasks.aidevs.pl/text_pasta_history.txt\n",
      "Pytanie:  komu przypisuje się przepis na danie lagana?\n",
      "Page Content:  The first concrete information on pasta products in Italy dates to the 13th or 14th centuries.\n",
      "In the 1st century AD writings of Horace, lagana (singular: laganum) were fine sheets of fried dough and were an everyday foodstuff. Writing in the 2nd century, Athenaeus of Naucratis provides a recipe for lagana which he attributes to the 1st century Chrysippus of Tyana: sheets of dough made of wheat flour and the juice of crushed lettuce, then flavoured with spices and deep-fried in oil. An early 5th century cookbook describes a dish called lagana that consisted of layers of dough with meat stuffing, an ancestor of modern-day lasagna. However, the method of cooking these sheets of dough does not correspond to the modern definition of either a fresh or dry pasta product, which only had similar basic ingredients and perhaps the shape. The first concrete information concerning pasta products in Italy dates from the 13th or 14th century.Historians have noted several lexical milestones relevant to pasta, none of which changes these basic characteristics. For example, the works of the 2nd century AD Greek physician Galen mention itrion, homogeneous compounds made of flour and water. The Jerusalem Talmud records that itrium, a kind of boiled dough, was common in Palestine from the 3rd to 5th centuries AD. A dictionary compiled by the 9th century Arab physician and lexicographer Isho bar Ali defines itriyya, the Arabic cognate, as string-like shapes made of semolina and dried before cooking. The geographical text of Muhammad al-Idrisi, compiled for the Norman King of Sicily Roger II in 1154 mentions itriyya manufactured and exported from Norman Sicily:\n",
      "\n",
      "West of Termini there is a delightful settlement called Trabia [along the Sicilian coast east of Palermo]. Its ever-flowing streams propel a number of mills. Here there are huge buildings in the countryside where they make vast quantities of itriyya which is exported everywhere: to Calabria, to Muslim and Christian countries. Very many shiploads are sent.\n",
      "One form of itriyya with a long history is lagana, which in Latin refers to thin sheets of dough, and gave rise to the Italian lasagna.\n",
      "\n",
      "In North Africa, a food similar to pasta, known as couscous, has been eaten for centuries. However, it lacks the distinguishing malleable nature of pasta, couscous being more akin to droplets of dough. At first, dry pasta was a luxury item in Italy because of high labor costs; durum wheat semolina had to be kneaded for a long time.\n",
      "There is a legend of Marco Polo importing pasta from China which originated with the Macaroni Journal, published by an association of food industries with the goal of promoting pasta in the United States. Rustichello da Pisa writes in his Travels that Marco Polo described a food similar to \"lagana\". Jeffrey Steingarten asserts that Arabs introduced pasta in the Emirate of Sicily in the ninth century, mentioning also that traces of pasta have been found in ancient Greece and that Jane Grigson believed the Marco Polo story to have originated in the 1920s or 1930s in an advertisement for a Canadian spaghetti company.Food historians estimate that the dish probably took hold in Italy as a result of extensive Mediterranean trading in the Middle Ages. From the 13th century, references to pasta dishes—macaroni, ravioli, gnocchi, vermicelli—crop up with increasing frequency across the Italian peninsula. In the 14th-century writer Boccaccio's collection of earthy tales, The Decameron, he recounts a mouthwatering fantasy concerning a mountain of Parmesan cheese down which pasta chefs roll macaroni and ravioli to gluttons waiting below.In the 14th and 15th centuries, dried pasta became popular for its easy storage. This allowed people to store pasta on ships when exploring the New World. A century later, pasta was present around the globe during the voyages of discovery.Although tomatoes were introduced to Italy in the 16th century and incorporated in Italian cuisine in the 17th century, description of the first Italian tomato sauces dates from the late 18th century: the first written record of pasta with tomato sauce can be found in the 1790 cookbook L'Apicio Moderno by Roman chef Francesco Leonardi. Before tomato sauce was introduced, pasta was eaten dry with the fingers; the liquid sauce demanded the use of a fork.\n",
      "Status code:  200\n",
      "Prompt: You need to answer to the question: komu przypisuje się przepis na danie lagana?. \n",
      "            ###  \n",
      "            Context:The first concrete information on pasta products in Italy dates to the 13th or 14th centuries.\n",
      "In the 1st century AD writings of Horace, lagana (singular: laganum) were fine sheets of fried dough and were an everyday foodstuff. Writing in the 2nd century, Athenaeus of Naucratis provides a recipe for lagana which he attributes to the 1st century Chrysippus of Tyana: sheets of dough made of wheat flour and the juice of crushed lettuce, then flavoured with spices and deep-fried in oil. An early 5th century cookbook describes a dish called lagana that consisted of layers of dough with meat stuffing, an ancestor of modern-day lasagna. However, the method of cooking these sheets of dough does not correspond to the modern definition of either a fresh or dry pasta product, which only had similar basic ingredients and perhaps the shape. The first concrete information concerning pasta products in Italy dates from the 13th or 14th century.Historians have noted several lexical milestones relevant to pasta, none of which changes these basic characteristics. For example, the works of the 2nd century AD Greek physician Galen mention itrion, homogeneous compounds made of flour and water. The Jerusalem Talmud records that itrium, a kind of boiled dough, was common in Palestine from the 3rd to 5th centuries AD. A dictionary compiled by the 9th century Arab physician and lexicographer Isho bar Ali defines itriyya, the Arabic cognate, as string-like shapes made of semolina and dried before cooking. The geographical text of Muhammad al-Idrisi, compiled for the Norman King of Sicily Roger II in 1154 mentions itriyya manufactured and exported from Norman Sicily:\n",
      "\n",
      "West of Termini there is a delightful settlement called Trabia [along the Sicilian coast east of Palermo]. Its ever-flowing streams propel a number of mills. Here there are huge buildings in the countryside where they make vast quantities of itriyya which is exported everywhere: to Calabria, to Muslim and Christian countries. Very many shiploads are sent.\n",
      "One form of itriyya with a long history is lagana, which in Latin refers to thin sheets of dough, and gave rise to the Italian lasagna.\n",
      "\n",
      "In North Africa, a food similar to pasta, known as couscous, has been eaten for centuries. However, it lacks the distinguishing malleable nature of pasta, couscous being more akin to droplets of dough. At first, dry pasta was a luxury item in Italy because of high labor costs; durum wheat semolina had to be kneaded for a long time.\n",
      "There is a legend of Marco Polo importing pasta from China which originated with the Macaroni Journal, published by an association of food industries with the goal of promoting pasta in the United States. Rustichello da Pisa writes in his Travels that Marco Polo described a food similar to \"lagana\". Jeffrey Steingarten asserts that Arabs introduced pasta in the Emirate of Sicily in the ninth century, mentioning also that traces of pasta have been found in ancient Greece and that Jane Grigson believed the Marco Polo story to have originated in the 1920s or 1930s in an advertisement for a Canadian spaghetti company.Food historians estimate that the dish probably took hold in Italy as a result of extensive Mediterranean trading in the Middle Ages. From the 13th century, references to pasta dishes—macaroni, ravioli, gnocchi, vermicelli—crop up with increasing frequency across the Italian peninsula. In the 14th-century writer Boccaccio's collection of earthy tales, The Decameron, he recounts a mouthwatering fantasy concerning a mountain of Parmesan cheese down which pasta chefs roll macaroni and ravioli to gluttons waiting below.In the 14th and 15th centuries, dried pasta became popular for its easy storage. This allowed people to store pasta on ships when exploring the New World. A century later, pasta was present around the globe during the voyages of discovery.Although tomatoes were introduced to Italy in the 16th century and incorporated in Italian cuisine in the 17th century, description of the first Italian tomato sauces dates from the late 18th century: the first written record of pasta with tomato sauce can be found in the 1790 cookbook L'Apicio Moderno by Roman chef Francesco Leonardi. Before tomato sauce was introduced, pasta was eaten dry with the fingers; the liquid sauce demanded the use of a fork.\n",
      "            ###\n",
      "            Hints: Return answer for the question in POLISH language, based on provided article. Maximum length for the answer is 200 characters\n",
      "        \n"
     ]
    },
    {
     "name": "stderr",
     "output_type": "stream",
     "text": [
      "c:\\Users\\dkwar\\Desktop\\Forge\\samurai-api\\.venv\\Lib\\site-packages\\langchain_core\\_api\\deprecation.py:117: LangChainDeprecationWarning: The function `__call__` was deprecated in LangChain 0.1.7 and will be removed in 0.2.0. Use invoke instead.\n",
      "  warn_deprecated(\n"
     ]
    },
    {
     "name": "stdout",
     "output_type": "stream",
     "text": [
      "Przepis na danie lagana przypisuje się 1. wieku Chryzypowi z Tyany.\n",
      "Odpowiedź: {'answer': 'Przepis na danie lagana przypisuje się 1. wieku Chryzypowi z Tyany.'}\n",
      "Odpowiedź serwera:  {'code': 0, 'msg': 'OK', 'note': 'CORRECT'}\n"
     ]
    },
    {
     "data": {
      "text/plain": [
       "{'code': 0, 'msg': 'OK', 'note': 'CORRECT'}"
      ]
     },
     "execution_count": 1,
     "metadata": {},
     "output_type": "execute_result"
    }
   ],
   "source": [
    "from utils import AiDevsTask, OpenAIChat, Downloader\n",
    "import json\n",
    "import os\n",
    "from langchain.schema import (\n",
    "    SystemMessage,\n",
    "    HumanMessage,\n",
    "    AIMessage\n",
    ")\n",
    "\n",
    "# Usage example:\n",
    "task_name = \"scraper\"\n",
    "task = AiDevsTask()\n",
    "task.get_token(task_name)\n",
    "task_response = task.get_task_content()\n",
    "\n",
    "task_msg = task_response['msg']\n",
    "print(\"Task message: \", task_msg)\n",
    "task_input = task_response['input']\n",
    "print(\"Task input: \", task_input)\n",
    "task_question = task_response['question']\n",
    "print(\"Pytanie: \", task_question)\n",
    "\n",
    "# Create an instance of Downloader\n",
    "downloader = Downloader()\n",
    "# Download the page content from the URL specified in task_input\n",
    "page_content = downloader.download_page(task_input)\n",
    "\n",
    "# Print the downloaded page content\n",
    "print(\"Page Content: \", page_content.text)\n",
    "print(\"Status code: \", page_content.status_code)\n",
    "\n",
    "chatbot = OpenAIChat()\n",
    "prompt = HumanMessage(content = f\"\"\"You need to answer to the question: {task_question}. \n",
    "            ###  \n",
    "            Context:{page_content.text}\n",
    "            ###\n",
    "            Hints: {task_msg}\n",
    "        \"\"\")\n",
    "\n",
    "results = chatbot.handle_query(prompt)\n",
    "print(results)\n",
    "\n",
    "task.send_answer(results)"
   ]
  }
 ],
 "metadata": {
  "kernelspec": {
   "display_name": ".venv",
   "language": "python",
   "name": "python3"
  },
  "language_info": {
   "codemirror_mode": {
    "name": "ipython",
    "version": 3
   },
   "file_extension": ".py",
   "mimetype": "text/x-python",
   "name": "python",
   "nbconvert_exporter": "python",
   "pygments_lexer": "ipython3",
   "version": "3.12.2"
  }
 },
 "nbformat": 4,
 "nbformat_minor": 2
}
