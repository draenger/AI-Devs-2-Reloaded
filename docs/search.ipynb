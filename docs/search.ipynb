{
 "cells": [
  {
   "cell_type": "code",
   "execution_count": 8,
   "metadata": {},
   "outputs": [
    {
     "name": "stdout",
     "output_type": "stream",
     "text": [
      "Token: 1ddf30271ff9a551eab8cc00cb040c8a6cef6e2b\n",
      "Treść zadania:  {'code': 0, 'msg': 'Index all data from provided URL into vecto store and provide answer to my question - https://unknow.news/archiwum_aidevs.json', 'question': 'Co różni pseudonimizację od anonimizowania danych?'}\n",
      "Task message:  Index all data from provided URL into vecto store and provide answer to my question - https://unknow.news/archiwum_aidevs.json\n",
      "Task question:  Co różni pseudonimizację od anonimizowania danych?\n",
      "Task input:  https://unknow.news/archiwum_aidevs.json\n",
      "Task file:  archiwum_aidevs.json\n",
      "Qdrant URL: http://localhost:6333\n",
      "Collection already exists.\n",
      "Documents already indexed.\n",
      "[ScoredPoint(id='6d0369c2-6ccb-4bda-93aa-f8425a5960c0', version=0, score=0.8988228, payload={'date': '2023-10-06', 'info': 'INFO: Czy patrząc na dane, można jednoznacznie stwierdzić, że są anonimowe? Czy np. haszowanie numerów telefonu to skuteczna pseudonimizacja? Adwokatka i kryptolog podejmują próbę pogodzenia prawnych i matematycznych definicji pojęć \"anonimizacja\" i \"pseudonimizacja\".', 'source': 'ai_devs_task_search', 'title': 'Czym się różni pseudonimizacja od anonimizacji? (film, 46 minut)', 'url': 'https://www.internet-czas-dzialac.pl/pseudonimizacja-a-anonimizacja/', 'uuid': '6d0369c2-6ccb-4bda-93aa-f8425a5960c0'}, vector=None, shard_key=None)]\n",
      "Task URL:  https://www.internet-czas-dzialac.pl/pseudonimizacja-a-anonimizacja/\n"
     ]
    },
    {
     "name": "stderr",
     "output_type": "stream",
     "text": [
      "Fetching pages: 100%|##########| 1/1 [00:00<00:00, 10.51it/s]\n"
     ]
    },
    {
     "name": "stdout",
     "output_type": "stream",
     "text": [
      "[Document(page_content='', metadata={'source': 'https://www.internet-czas-dzialac.pl/pseudonimizacja-a-anonimizacja/', 'title': 'Pseudonimizacja a anonimizacja', 'description': 'Czy patrząc na dane można jednoznacznie stwierdzić, że są anonimowe? Czy np. haszowanie numerów telefonu to skuteczna pseudonimizacja? Adwokatka Agnieszka Rapcewicz i\\xa0kryptolog dr inż. Michał Ren podejmują próbę pogodzenia prawnych i\\xa0matematycznych definicji pojęć „anonimizacja” i\\xa0„pseudonimizacja”.', 'language': 'pl'})]\n",
      "Odpowiedź: {'answer': 'https://www.internet-czas-dzialac.pl/pseudonimizacja-a-anonimizacja/'}\n",
      "Odpowiedź serwera:  {'code': 0, 'msg': 'OK', 'note': 'CORRECT'}\n"
     ]
    },
    {
     "data": {
      "text/plain": [
       "{'code': 0, 'msg': 'OK', 'note': 'CORRECT'}"
      ]
     },
     "execution_count": 8,
     "metadata": {},
     "output_type": "execute_result"
    }
   ],
   "source": [
    "from utils import AiDevsTask, OpenAIChat, Downloader, QuadrantDocumentIndexer\n",
    "import json\n",
    "import os\n",
    "from langchain.schema import (\n",
    "    SystemMessage,\n",
    "    HumanMessage,\n",
    "    AIMessage\n",
    ")\n",
    "\n",
    "# Usage example:\n",
    "task_name = \"search\"\n",
    "task = AiDevsTask()\n",
    "task.get_token(task_name)\n",
    "task_response = task.get_task_content()\n",
    "\n",
    "task_msg = task_response['msg']\n",
    "print(\"Task message: \", task_msg)\n",
    "task_question = task_response['question']\n",
    "print(\"Task question: \", task_question)\n",
    "\n",
    "task_input = task_msg.split(\" - \")[1]\n",
    "print(\"Task input: \", task_input)\n",
    "\n",
    "downloader = Downloader()\n",
    "task_file = downloader.download_file(task_input)\n",
    "task_file = \"archiwum_aidevs.json\"\n",
    "print(\"Task file: \", task_file)\n",
    "\n",
    "# Example usage:\n",
    "memory_path = task_file\n",
    "collection_name = \"ai_devs_task_search\"\n",
    "\n",
    "indexer = QuadrantDocumentIndexer(memory_path, collection_name)\n",
    "indexer.create_collection()\n",
    "indexer.index_documents()\n",
    "search_result = indexer.search_document(task_question)\n",
    "print(search_result)\n",
    "\n",
    "task_url = search_result[0].payload['url']\n",
    "print(\"Task URL: \", task_url)\n",
    "\n",
    "task.send_answer(task_url)"
   ]
  },
  {
   "cell_type": "code",
   "execution_count": null,
   "metadata": {},
   "outputs": [],
   "source": [
    "from langchain_community.document_loaders import AsyncHtmlLoader\n",
    "from langchain_community.document_transformers import BeautifulSoupTransformer\n",
    "\n",
    "urls = [task_url]\n",
    "loader = AsyncHtmlLoader(urls)\n",
    "docs = loader.load()\n",
    "bs_transformer = BeautifulSoupTransformer()\n",
    "docs_transformed = bs_transformer.transform_documents(docs, tags_to_extract=[\"article\"])\n",
    "docs_transformed = bs_transformer.transform_documents(docs, tags_to_extract=[\"div\"], classmethod=[\"post-content\"])\n",
    "print(docs_transformed)\n",
    "\n"
   ]
  }
 ],
 "metadata": {
  "kernelspec": {
   "display_name": ".venv",
   "language": "python",
   "name": "python3"
  },
  "language_info": {
   "codemirror_mode": {
    "name": "ipython",
    "version": 3
   },
   "file_extension": ".py",
   "mimetype": "text/x-python",
   "name": "python",
   "nbconvert_exporter": "python",
   "pygments_lexer": "ipython3",
   "version": "3.12.2"
  }
 },
 "nbformat": 4,
 "nbformat_minor": 2
}
