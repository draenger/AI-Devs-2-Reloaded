{
 "cells": [
  {
   "cell_type": "code",
   "execution_count": 17,
   "metadata": {},
   "outputs": [
    {
     "name": "stdout",
     "output_type": "stream",
     "text": [
      "Token: 3782ecef5dd4005bb1a38218d80fdd2c1069cd22\n",
      "Treść zadania:  {'code': 0, 'msg': 'Decide whether the task should be added to the ToDo list or to the calendar (if time is provided) and return the corresponding JSON', 'hint': 'always use YYYY-MM-DD format for dates', 'example for ToDo': 'Przypomnij mi, że mam kupić mleko = {\"tool\":\"ToDo\",\"desc\":\"Kup mleko\" }', 'example for Calendar': 'Jutro mam spotkanie z Marianem = {\"tool\":\"Calendar\",\"desc\":\"Spotkanie z Marianem\",\"date\":\"2024-04-21\"}', 'question': 'Mam zapisać się na AI Devs 3.0'}\n",
      "Task message:  Decide whether the task should be added to the ToDo list or to the calendar (if time is provided) and return the corresponding JSON\n",
      "Pytanie:  Mam zapisać się na AI Devs 3.0\n",
      "Hint:  always use YYYY-MM-DD format for dates\n",
      "Example for ToDo:  Przypomnij mi, że mam kupić mleko = {\"tool\":\"ToDo\",\"desc\":\"Kup mleko\" }\n",
      "Example for Calendar:  Jutro mam spotkanie z Marianem = {\"tool\":\"Calendar\",\"desc\":\"Spotkanie z Marianem\",\"date\":\"2024-04-21\"}\n",
      "2024-04-20\n",
      "Chat response:  {'tool': 'ToDo', 'desc': 'Zapisać się na AI Devs 3.0'}\n",
      "Odpowiedź: {'answer': {'tool': 'ToDo', 'desc': 'Zapisać się na AI Devs 3.0'}}\n",
      "Odpowiedź serwera:  {'code': 0, 'msg': 'OK', 'note': 'CORRECT'}\n"
     ]
    },
    {
     "data": {
      "text/plain": [
       "{'code': 0, 'msg': 'OK', 'note': 'CORRECT'}"
      ]
     },
     "execution_count": 17,
     "metadata": {},
     "output_type": "execute_result"
    }
   ],
   "source": [
    "from utils import AiDevsTask, OpenAIChat\n",
    "from utils.tools import NBPTools, RestCountriesTools\n",
    "import json\n",
    "import os\n",
    "from datetime import datetime\n",
    "from langchain.schema import (\n",
    "    SystemMessage,\n",
    "    HumanMessage,\n",
    "    AIMessage\n",
    ")\n",
    "\n",
    "# Usage example:\n",
    "task_name = \"tools\"\n",
    "task = AiDevsTask()\n",
    "task.get_token(task_name)\n",
    "task_response = task.get_task_content()\n",
    "\n",
    "task_msg = task_response['msg']\n",
    "print(\"Task message: \", task_msg)\n",
    "task_question = task_response['question']\n",
    "print(\"Pytanie: \", task_question)\n",
    "task_hint = task_response['hint']\n",
    "print(\"Hint: \", task_hint)\n",
    "task_example_for_todo = task_response['example for ToDo']\n",
    "print(\"Example for ToDo: \", task_example_for_todo)\n",
    "task_example_for_calendar = task_response['example for Calendar']\n",
    "print(\"Example for Calendar: \", task_example_for_calendar)\n",
    "\n",
    "current_date = datetime.now().strftime(\"%Y-%m-%d\")\n",
    "print(current_date)\n",
    "\n",
    "json_examples = \"\"\"\n",
    "- Przypomnij mi, że mam kupić mleko = {\"tool\":\"ToDo\",\"desc\":\"Kup mleko\" }\"\n",
    "- Musze kupić zapałki = {\"tool\":\"ToDo\",\"desc\":\"Kup zapałki\" }\"\n",
    "- Za dwa dni są urodziny Zenka = {\"tool\":\"Calendar\",\"desc\":\"Urodziny Zenka\",\"date\":\"2024-04-22\" }\n",
    "- Jutro mam spotkanie z Marianem = {\"tool\":\"Calendar\",\"desc\":\"Spotkanie z Marianem\",\"date\":\"2024-04-21\"}\n",
    "\"\"\"\n",
    "\n",
    "chatbot = OpenAIChat()\n",
    "messages=[\n",
    "        HumanMessage(content=f\"\"\"Decide whether the task should be added to the ToDo list or to the calendar (if time is provided) and return the corresponding JSON and nothing else.\n",
    "                    - Always use YYYY-MM-DD format for dates.\n",
    "                    - Today's date is: {current_date}\n",
    "                    \n",
    "                    ###Examples: {json_examples}\n",
    "                    ###Task: {task_question}\n",
    "                    \"\"\"),\n",
    "    ]\n",
    "chat_response = chatbot.handle_messages(messages)\n",
    "chat_response = json.loads(chat_response)\n",
    "print(\"Chat response: \", chat_response)\n",
    "\n",
    "task.send_answer(chat_response)"
   ]
  }
 ],
 "metadata": {
  "kernelspec": {
   "display_name": ".venv",
   "language": "python",
   "name": "python3"
  },
  "language_info": {
   "codemirror_mode": {
    "name": "ipython",
    "version": 3
   },
   "file_extension": ".py",
   "mimetype": "text/x-python",
   "name": "python",
   "nbconvert_exporter": "python",
   "pygments_lexer": "ipython3",
   "version": "3.12.2"
  }
 },
 "nbformat": 4,
 "nbformat_minor": 2
}
