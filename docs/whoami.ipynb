{
 "cells": [
  {
   "cell_type": "code",
   "execution_count": 1,
   "metadata": {},
   "outputs": [
    {
     "name": "stdout",
     "output_type": "stream",
     "text": [
      "Token: 29f03f021765f513818c0ed5dc9cbc8c57e04685\n",
      "Treść zadania:  {'code': 0, 'msg': 'Each time you call up this task, I will return a trivia item about a certain person (the person does not change). Guess who I am', 'hint': 'został adoptowany tuż po urodzeniu'}\n",
      "Task message:  Each time you call up this task, I will return a trivia item about a certain person (the person does not change). Guess who I am\n",
      "Task hint:  został adoptowany tuż po urodzeniu\n"
     ]
    },
    {
     "name": "stderr",
     "output_type": "stream",
     "text": [
      "c:\\Users\\dkwar\\Desktop\\Forge\\samurai-api\\.venv\\Lib\\site-packages\\langchain_core\\_api\\deprecation.py:117: LangChainDeprecationWarning: The function `__call__` was deprecated in LangChain 0.1.7 and will be removed in 0.2.0. Use invoke instead.\n",
      "  warn_deprecated(\n"
     ]
    },
    {
     "name": "stdout",
     "output_type": "stream",
     "text": [
      "Treść zadania:  {'code': 0, 'msg': 'Each time you call up this task, I will return a trivia item about a certain person (the person does not change). Guess who I am', 'hint': 'Był pod wpływem Zen buddyzmu i odwiedził Indie w poszukiwaniu duchowego oświecenia'}\n",
      "Task hint:  Był pod wpływem Zen buddyzmu i odwiedził Indie w poszukiwaniu duchowego oświecenia\n",
      "Odpowiedź: {'answer': 'Steve Jobs'}\n",
      "Odpowiedź serwera:  {'code': 0, 'msg': 'OK', 'note': 'CORRECT'}\n",
      "Task completed\n"
     ]
    }
   ],
   "source": [
    "from utils import AiDevsTask, OpenAIChat\n",
    "import json\n",
    "import os\n",
    "from langchain.schema import (\n",
    "    SystemMessage,\n",
    "    HumanMessage,\n",
    "    AIMessage\n",
    ")\n",
    "\n",
    "# Usage example:\n",
    "task_name = \"whoami\"\n",
    "task = AiDevsTask()\n",
    "task.get_token(task_name)\n",
    "task_response = task.get_task_content()\n",
    "\n",
    "task_msg = task_response['msg']\n",
    "print(\"Task message: \", task_msg)\n",
    "task_hint = task_response['hint']\n",
    "print(\"Task hint: \", task_hint)\n",
    "\n",
    "chatbot = OpenAIChat()\n",
    "messages=[\n",
    "        SystemMessage(content=f\"{task_msg}. Return the name and nothing else.\"),\n",
    "        HumanMessage(content=f\"Hint 1: {task_hint}\")\n",
    "    ]\n",
    "chat_response = chatbot.handle_messages(messages)\n",
    "\n",
    "iteration_limit = 6\n",
    "for i in range(2, iteration_limit + 1):\n",
    "    task_response = task.get_task_content()\n",
    "    task_hint = task_response['hint']\n",
    "    print(\"Task hint: \", task_hint)\n",
    "    \n",
    "    messages.append(HumanMessage(content=f\"Hint {i}: {task_hint}\"))\n",
    "    chat_response = chatbot.handle_messages(messages)\n",
    "    \n",
    "    task_response = task.send_answer(chat_response)\n",
    "    \n",
    "    if(task_response['msg'] == \"OK\"):\n",
    "        print(\"Task completed\")\n",
    "        break\n",
    "\n"
   ]
  }
 ],
 "metadata": {
  "kernelspec": {
   "display_name": ".venv",
   "language": "python",
   "name": "python3"
  },
  "language_info": {
   "codemirror_mode": {
    "name": "ipython",
    "version": 3
   },
   "file_extension": ".py",
   "mimetype": "text/x-python",
   "name": "python",
   "nbconvert_exporter": "python",
   "pygments_lexer": "ipython3",
   "version": "3.12.2"
  }
 },
 "nbformat": 4,
 "nbformat_minor": 2
}
